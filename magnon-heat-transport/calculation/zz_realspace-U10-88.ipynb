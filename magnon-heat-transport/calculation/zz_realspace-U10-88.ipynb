{
 "cells": [
  {
   "cell_type": "code",
   "execution_count": 1,
   "metadata": {
    "collapsed": true
   },
   "outputs": [],
   "source": [
    "%reload_ext autoreload\n",
    "%autoreload 2\n",
    "\n",
    "from packages.correlations import *\n",
    "from packages.modelfunction import *\n",
    "from packages.correlation_length import *"
   ]
  },
  {
   "cell_type": "code",
   "execution_count": null,
   "metadata": {
    "collapsed": true
   },
   "outputs": [],
   "source": []
  },
  {
   "cell_type": "code",
   "execution_count": 2,
   "metadata": {},
   "outputs": [
    {
     "name": "stdout",
     "output_type": "stream",
     "text": [
      "../../../../project_data/newtune/8*8U10/tp0beta0.125/n1/\n",
      "200/200 complete bins\n",
      "../../../../project_data/newtune/8*8U10/tp0beta0.25/n1/\n",
      "200/200 complete bins\n",
      "../../../../project_data/newtune/8*8U10/tp0beta0.3/n1/\n",
      "200/200 complete bins\n",
      "../../../../project_data/newtune/8*8U10/tp0beta0.4/n1/\n",
      "200/200 complete bins\n",
      "../../../../project_data/newtune/8*8U10/tp0beta0.5/n1/\n",
      "200/200 complete bins\n",
      "../../../../project_data/newtune/8*8U10/tp0beta0.6/n1/\n",
      "200/200 complete bins\n",
      "../../../../project_data/newtune/8*8U10/tp0beta0.7/n1/\n",
      "200/200 complete bins\n",
      "../../../../project_data/newtune/8*8U10/tp0beta1/n1/\n",
      "200/200 complete bins\n",
      "../../../../project_data/newtune/8*8U10/tp0beta1.5/n1/\n",
      "200/200 complete bins\n",
      "../../../../project_data/newtune/8*8U10/tp0beta2/n1/\n",
      "200/200 complete bins\n",
      "../../../../project_data/newtune/8*8U10/tp0beta2.5/n1/\n",
      "500/500 complete bins\n",
      "../../../../project_data/newtune/8*8U10/tp0beta3/n1/\n",
      "500/500 complete bins\n",
      "../../../../project_data/newtune/8*8U10/tp0beta3.5/n1/\n",
      "500/500 complete bins\n",
      "../../../../project_data/newtune/8*8U10/tp0beta4/n1/\n",
      "800/800 complete bins\n",
      "../../../../project_data/newtune/8*8U10/tp0beta4.5/n1/\n",
      "800/800 complete bins\n",
      "../../../../project_data/newtune/8*8U10/tp0beta5/n1/\n",
      "800/800 complete bins\n",
      "../../../../project_data/newtune/8*8U10/tp0beta6/n1/\n",
      "1200/1200 complete bins\n",
      "../../../../project_data/newtune/8*8U10/tp0beta7/n1/\n",
      "1200/1200 complete bins\n",
      "../../../../project_data/newtune/8*8U10/tp0beta8/n1/\n",
      "1577/1577 complete bins\n",
      "../../../../project_data/newtune/8*8U10/tp0beta10/n1/\n",
      "1599/1599 complete bins\n",
      "../../../../project_data/newtune/8*8U10/tp0beta12/n1/\n",
      "1600/1600 complete bins\n",
      "../../../../project_data/newtune/8*8U10/tp0beta20/n1/\n",
      "1560/1560 complete bins\n"
     ]
    }
   ],
   "source": [
    "U=10\n",
    "sitex = 8\n",
    "sitey = 8\n",
    "tp=0\n",
    "\n",
    "betas = np.array([0.125,0.25,0.3,0.4,0.5,0.6,0.7,1,1.5,2,2.5,3,3.5,4,4.5,5,6,7,8,10,12,20])\n",
    "pathpre = f\"../../../../project_data/newtune/{sitex:g}*{sitey:g}U{U:g}/\"\n",
    "\n",
    "save_spincorrelation(U,sitex,sitey,tp,betas,pathpre)"
   ]
  },
  {
   "cell_type": "code",
   "execution_count": null,
   "metadata": {
    "collapsed": true
   },
   "outputs": [],
   "source": []
  }
 ],
 "metadata": {
  "kernelspec": {
   "display_name": "Python 3",
   "language": "python",
   "name": "python3"
  },
  "language_info": {
   "codemirror_mode": {
    "name": "ipython",
    "version": 3
   },
   "file_extension": ".py",
   "mimetype": "text/x-python",
   "name": "python",
   "nbconvert_exporter": "python",
   "pygments_lexer": "ipython3",
   "version": "3.6.1"
  }
 },
 "nbformat": 4,
 "nbformat_minor": 2
}
