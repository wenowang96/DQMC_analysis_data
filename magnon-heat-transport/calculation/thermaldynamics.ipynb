{
 "cells": [
  {
   "cell_type": "code",
   "execution_count": 1,
   "metadata": {
    "collapsed": true
   },
   "outputs": [],
   "source": [
    "%reload_ext autoreload\n",
    "%autoreload 2\n",
    "%config InlineBackend.figure_format = 'svg'\n",
    "from packages.thermaldynamics import *\n",
    "plt.rcParams[\"figure.facecolor\"] = 'w'\n",
    "plt.rcParams.update({'font.size': 8, 'font.sans-serif':'Liberation Sans'})"
   ]
  },
  {
   "cell_type": "code",
   "execution_count": 2,
   "metadata": {
    "collapsed": true
   },
   "outputs": [],
   "source": [
    "def calcdt(dt):\n",
    "    den,ck,cp,c,ek,ep,e,spinsusc,compressibility,chargewilsonratio,spinwilsonratio = get_all(path)\n",
    "    \n",
    "    dens[i,j,:]=den\n",
    "    cks[i, j, :] = ck\n",
    "    cps[i, j, :] = cp\n",
    "    cs[i, j, :] = c\n",
    "\n",
    "    eks[i, j, :] = ek\n",
    "    eps[i, j, :] = ep\n",
    "    es[i, j, :] = e\n",
    "    \n",
    "    spinsuscs[i, j, :] =spinsusc\n",
    "    compressibilities[i, j, :] =compressibility\n",
    "    chargewilsonratios[i, j, :]=chargewilsonratio\n",
    "    spinwilsonratios[i,j,:]=spinwilsonratio\n",
    "    \n",
    "    np.save(f\"dens_{sitex:g}*{sitey:g}U{U:g}tp{tp:g}dt{dt}.npy\", dens)\n",
    "    \n",
    "    np.save(f\"cks_{sitex:g}*{sitey:g}U{U:g}tp{tp:g}dt{dt}.npy\", cks)\n",
    "    np.save(f\"cps_{sitex:g}*{sitey:g}U{U:g}tp{tp:g}dt{dt}.npy\", cps)\n",
    "    np.save(f\"cs_{sitex:g}*{sitey:g}U{U:g}tp{tp:g}dt{dt}.npy\", cs)\n",
    "\n",
    "    np.save(f\"eks_{sitex:g}*{sitey:g}U{U:g}tp{tp:g}dt{dt}.npy\", eks)\n",
    "    np.save(f\"eps_{sitex:g}*{sitey:g}U{U:g}tp{tp:g}dt{dt}.npy\", eps)\n",
    "    np.save(f\"es_{sitex:g}*{sitey:g}U{U:g}tp{tp:g}dt{dt}.npy\", es)\n",
    "\n",
    "    np.save(f\"spinsuscs_{sitex:g}*{sitey:g}U{U:g}tp{tp:g}dt{dt}.npy\", spinsuscs)\n",
    "    np.save(f\"compressibilities_{sitex:g}*{sitey:g}U{U:g}tp{tp:g}dt{dt}.npy\", compressibilities)\n",
    "    np.save(f\"chargewilsonratios_{sitex:g}*{sitey:g}U{U:g}tp{tp:g}dt{dt}.npy\", chargewilsonratios)\n",
    "    np.save(f\"spinwilsonratios_{sitex:g}*{sitey:g}U{U:g}tp{tp:g}dt{dt}.npy\", spinwilsonratios)"
   ]
  },
  {
   "cell_type": "code",
   "execution_count": null,
   "metadata": {
    "collapsed": true
   },
   "outputs": [],
   "source": []
  },
  {
   "cell_type": "code",
   "execution_count": 3,
   "metadata": {
    "collapsed": true
   },
   "outputs": [
    {
     "name": "stdout",
     "output_type": "stream",
     "text": [
      "../../../../project_data/newtune/8*8U10/tp0beta0.125/n1/\n",
      "200/200 complete bins\n",
      "../../../../project_data/newtune/8*8U10/tp0beta0.25/n1/\n",
      "200/200 complete bins\n",
      "../../../../project_data/newtune/8*8U10/tp0beta0.3/n1/\n",
      "200/200 complete bins\n",
      "../../../../project_data/newtune/8*8U10/tp0beta0.4/n1/\n",
      "200/200 complete bins\n",
      "../../../../project_data/newtune/8*8U10/tp0beta0.5/n1/\n",
      "200/200 complete bins\n",
      "../../../../project_data/newtune/8*8U10/tp0beta0.6/n1/\n",
      "200/200 complete bins\n",
      "../../../../project_data/newtune/8*8U10/tp0beta0.7/n1/\n",
      "200/200 complete bins\n",
      "../../../../project_data/newtune/8*8U10/tp0beta1/n1/\n",
      "200/200 complete bins\n",
      "../../../../project_data/newtune/8*8U10/tp0beta1.5/n1/\n",
      "200/200 complete bins\n",
      "../../../../project_data/newtune/8*8U10/tp0beta2/n1/\n",
      "200/200 complete bins\n",
      "../../../../project_data/newtune/8*8U10/tp0beta2.5/n1/\n",
      "500/500 complete bins\n",
      "../../../../project_data/newtune/8*8U10/tp0beta3/n1/\n",
      "500/500 complete bins\n",
      "../../../../project_data/newtune/8*8U10/tp0beta3.5/n1/\n",
      "500/500 complete bins\n",
      "../../../../project_data/newtune/8*8U10/tp0beta4/n1/\n",
      "800/800 complete bins\n",
      "../../../../project_data/newtune/8*8U10/tp0beta4.5/n1/\n",
      "800/800 complete bins\n",
      "../../../../project_data/newtune/8*8U10/tp0beta5/n1/\n",
      "800/800 complete bins\n",
      "../../../../project_data/newtune/8*8U10/tp0beta6/n1/\n",
      "1200/1200 complete bins\n",
      "../../../../project_data/newtune/8*8U10/tp0beta7/n1/\n",
      "1200/1200 complete bins\n",
      "../../../../project_data/newtune/8*8U10/tp0beta8/n1/\n",
      "1577/1577 complete bins\n",
      "../../../../project_data/newtune/8*8U10/tp0beta10/n1/\n",
      "1599/1599 complete bins\n",
      "../../../../project_data/newtune/8*8U10/tp0beta12/n1/\n",
      "1600/1600 complete bins\n",
      "../../../../project_data/newtune/8*8U10/tp0beta20/n1/\n",
      "1560/1560 complete bins\n"
     ]
    }
   ],
   "source": [
    "U=10\n",
    "tp=0\n",
    "ns = np.array([1])\n",
    "betas = np.array([0.125,0.25,0.3,0.4,0.5,0.6,0.7,1,1.5,2,2.5,3,3.5,4,4.5,5,6,7,8,10,12,20])\n",
    "tps = np.array([0])\n",
    "tp=0\n",
    "sitex = 8\n",
    "sitey = 8\n",
    "dt='05'\n",
    "\n",
    "dens = np.zeros((len(ns),len(betas),2))\n",
    "\n",
    "cks = np.zeros((len(ns),len(betas), 2))\n",
    "cps = np.zeros((len(ns),len(betas), 2))\n",
    "cs = np.zeros((len(ns),len(betas), 2))\n",
    "\n",
    "\n",
    "eks = np.zeros((len(ns),len(betas), 2))\n",
    "eps = np.zeros((len(ns),len(betas), 2))\n",
    "es = np.zeros((len(ns),len(betas), 2))\n",
    "\n",
    "spinsuscs = np.zeros((len(ns),len(betas), 2))\n",
    "compressibilities = np.zeros((len(ns),len(betas), 2))\n",
    "chargewilsonratios = np.zeros((len(ns),len(betas), 2))\n",
    "spinwilsonratios = np.zeros((len(ns),len(betas), 2))\n",
    "\n",
    "\n",
    "\n",
    "for i, n in enumerate(ns):\n",
    "    for j, b in enumerate(betas):\n",
    "        path = f\"../../../../project_data/newtune/{sitex:g}*{sitey:g}U{U:g}/tp{tp:g}beta{b:g}/n{n:g}/\"\n",
    "        print(path)\n",
    "        calcdt(dt)"
   ]
  },
  {
   "cell_type": "code",
   "execution_count": 4,
   "metadata": {
    "collapsed": true
   },
   "outputs": [
    {
     "name": "stdout",
     "output_type": "stream",
     "text": [
      "../../../../project_data/newtune/8*8U12/tp0beta0.125/n1/\n",
      "200/200 complete bins\n",
      "../../../../project_data/newtune/8*8U12/tp0beta0.25/n1/\n",
      "200/200 complete bins\n",
      "../../../../project_data/newtune/8*8U12/tp0beta0.3/n1/\n",
      "200/200 complete bins\n",
      "../../../../project_data/newtune/8*8U12/tp0beta0.4/n1/\n",
      "400/400 complete bins\n",
      "../../../../project_data/newtune/8*8U12/tp0beta0.5/n1/\n",
      "400/400 complete bins\n",
      "../../../../project_data/newtune/8*8U12/tp0beta0.6/n1/\n",
      "400/400 complete bins\n",
      "../../../../project_data/newtune/8*8U12/tp0beta0.7/n1/\n",
      "400/400 complete bins\n",
      "../../../../project_data/newtune/8*8U12/tp0beta1/n1/\n",
      "400/400 complete bins\n",
      "../../../../project_data/newtune/8*8U12/tp0beta1.5/n1/\n",
      "400/400 complete bins\n",
      "../../../../project_data/newtune/8*8U12/tp0beta2/n1/\n",
      "400/400 complete bins\n",
      "../../../../project_data/newtune/8*8U12/tp0beta2.5/n1/\n",
      "400/400 complete bins\n",
      "../../../../project_data/newtune/8*8U12/tp0beta3/n1/\n",
      "800/800 complete bins\n",
      "../../../../project_data/newtune/8*8U12/tp0beta3.5/n1/\n",
      "1199/1199 complete bins\n",
      "../../../../project_data/newtune/8*8U12/tp0beta4/n1/\n",
      "1200/1200 complete bins\n",
      "../../../../project_data/newtune/8*8U12/tp0beta4.5/n1/\n",
      "1200/1200 complete bins\n",
      "../../../../project_data/newtune/8*8U12/tp0beta5/n1/\n",
      "1200/1200 complete bins\n",
      "../../../../project_data/newtune/8*8U12/tp0beta6/n1/\n",
      "1599/1599 complete bins\n",
      "../../../../project_data/newtune/8*8U12/tp0beta7/n1/\n",
      "1600/1600 complete bins\n",
      "../../../../project_data/newtune/8*8U12/tp0beta8/n1/\n",
      "1599/1599 complete bins\n",
      "../../../../project_data/newtune/8*8U12/tp0beta10/n1/\n",
      "1562/1562 complete bins\n",
      "../../../../project_data/newtune/8*8U12/tp0beta12/n1/\n",
      "1590/1590 complete bins\n"
     ]
    }
   ],
   "source": [
    "U=12\n",
    "tp=0\n",
    "ns = np.array([1])\n",
    "betas = np.array([0.125,0.25,0.3,0.4,0.5,0.6,0.7,1,1.5,2,2.5,3,3.5,4,4.5,5,6,7,8,10,12])\n",
    "tps = np.array([0])\n",
    "tp=0\n",
    "sitex = 8\n",
    "sitey = 8\n",
    "\n",
    "dt='05'\n",
    "\n",
    "\n",
    "\n",
    "dens = np.zeros((len(ns),len(betas),2))\n",
    "\n",
    "cks = np.zeros((len(ns),len(betas), 2))\n",
    "cps = np.zeros((len(ns),len(betas), 2))\n",
    "cs = np.zeros((len(ns),len(betas), 2))\n",
    "\n",
    "\n",
    "eks = np.zeros((len(ns),len(betas), 2))\n",
    "eps = np.zeros((len(ns),len(betas), 2))\n",
    "es = np.zeros((len(ns),len(betas), 2))\n",
    "\n",
    "spinsuscs = np.zeros((len(ns),len(betas), 2))\n",
    "compressibilities = np.zeros((len(ns),len(betas), 2))\n",
    "chargewilsonratios = np.zeros((len(ns),len(betas), 2))\n",
    "spinwilsonratios = np.zeros((len(ns),len(betas), 2))\n",
    "\n",
    "\n",
    "for i, n in enumerate(ns):\n",
    "    for j, b in enumerate(betas):\n",
    "        path = f\"../../../../project_data/newtune/{sitex:g}*{sitey:g}U{U:g}/tp{tp:g}beta{b:g}/n{n:g}/\"\n",
    "        print(path)\n",
    "        calcdt(dt)"
   ]
  },
  {
   "cell_type": "code",
   "execution_count": null,
   "metadata": {
    "collapsed": true
   },
   "outputs": [],
   "source": []
  },
  {
   "cell_type": "code",
   "execution_count": 8,
   "metadata": {
    "collapsed": true
   },
   "outputs": [
    {
     "name": "stdout",
     "output_type": "stream",
     "text": [
      "../../../../data/8*8U8/tp0beta0.125/n1/\n",
      "200/200 complete bins\n",
      "../../../../data/8*8U8/tp0beta0.25/n1/\n",
      "200/200 complete bins\n",
      "../../../../data/8*8U8/tp0beta0.3/n1/\n",
      "200/200 complete bins\n",
      "../../../../data/8*8U8/tp0beta0.4/n1/\n",
      "200/200 complete bins\n",
      "../../../../data/8*8U8/tp0beta0.5/n1/\n",
      "200/200 complete bins\n",
      "../../../../data/8*8U8/tp0beta0.6/n1/\n",
      "200/200 complete bins\n",
      "../../../../data/8*8U8/tp0beta0.7/n1/\n",
      "200/200 complete bins\n",
      "../../../../data/8*8U8/tp0beta1/n1/\n",
      "200/200 complete bins\n",
      "../../../../data/8*8U8/tp0beta1.5/n1/\n",
      "500/500 complete bins\n",
      "../../../../data/8*8U8/tp0beta2/n1/\n",
      "1600/1600 complete bins\n",
      "../../../../data/8*8U8/tp0beta2.5/n1/\n",
      "1600/1600 complete bins\n",
      "../../../../data/8*8U8/tp0beta3/n1/\n",
      "1600/1600 complete bins\n",
      "../../../../data/8*8U8/tp0beta3.5/n1/\n",
      "2000/2000 complete bins\n",
      "../../../../data/8*8U8/tp0beta4/n1/\n",
      "1995/1995 complete bins\n",
      "../../../../data/8*8U8/tp0beta4.5/n1/\n",
      "1998/1998 complete bins\n",
      "../../../../data/8*8U8/tp0beta5/n1/\n",
      "4000/4000 complete bins\n",
      "../../../../data/8*8U8/tp0beta5.5/n1/\n",
      "3994/3994 complete bins\n",
      "../../../../data/8*8U8/tp0beta6/n1/\n",
      "3199/3199 complete bins\n",
      "../../../../data/8*8U8/tp0beta7/n1/\n",
      "2398/2398 complete bins\n",
      "../../../../data/8*8U8/tp0beta8/n1/\n",
      "3983/3983 complete bins\n",
      "../../../../data/8*8U8/tp0beta10/n1/\n",
      "1600/2400 complete bins\n",
      "../../../../data/8*8U8/tp0beta12/n1/\n",
      "1600/1600 complete bins\n",
      "../../../../data/8*8U8/tp0beta20/n1/\n",
      "1600/1600 complete bins\n"
     ]
    }
   ],
   "source": [
    "U=8\n",
    "tp=0\n",
    "ns = np.array([1])\n",
    "betas = np.array([0.125,0.25,0.3,0.4,0.5,0.6,0.7,1,1.5,2,2.5,3,3.5,4,4.5,5,5.5,6,7,8,10,12,20])\n",
    "tps = np.array([0])\n",
    "tp=0\n",
    "sitex = 8\n",
    "sitey = 8\n",
    "dt='05'\n",
    "\n",
    "dens = np.zeros((len(ns),len(betas),2))\n",
    "\n",
    "cks = np.zeros((len(ns),len(betas), 2))\n",
    "cps = np.zeros((len(ns),len(betas), 2))\n",
    "cs = np.zeros((len(ns),len(betas), 2))\n",
    "\n",
    "\n",
    "eks = np.zeros((len(ns),len(betas), 2))\n",
    "eps = np.zeros((len(ns),len(betas), 2))\n",
    "es = np.zeros((len(ns),len(betas), 2))\n",
    "\n",
    "spinsuscs = np.zeros((len(ns),len(betas), 2))\n",
    "compressibilities = np.zeros((len(ns),len(betas), 2))\n",
    "chargewilsonratios = np.zeros((len(ns),len(betas), 2))\n",
    "spinwilsonratios = np.zeros((len(ns),len(betas), 2))\n",
    "for i, n in enumerate(ns):\n",
    "    for j, b in enumerate(betas):\n",
    "        path = f\"../../../../data/{sitex:g}*{sitey:g}U{U:g}/tp{tp:g}beta{b:g}/n{n:g}/\"\n",
    "        print(path)\n",
    "        calcdt(dt)"
   ]
  },
  {
   "cell_type": "code",
   "execution_count": null,
   "metadata": {
    "collapsed": true
   },
   "outputs": [],
   "source": []
  },
  {
   "cell_type": "code",
   "execution_count": null,
   "metadata": {
    "collapsed": true
   },
   "outputs": [],
   "source": []
  },
  {
   "cell_type": "code",
   "execution_count": 11,
   "metadata": {
    "collapsed": true
   },
   "outputs": [
    {
     "name": "stdout",
     "output_type": "stream",
     "text": [
      "../../../../data/8*8U6/tp0beta0.5/n1/\n",
      "184/184 complete bins\n",
      "../../../../data/8*8U6/tp0beta0.7/n1/\n",
      "200/200 complete bins\n",
      "../../../../data/8*8U6/tp0beta1/n1/\n",
      "187/187 complete bins\n",
      "../../../../data/8*8U6/tp0beta1.5/n1/\n",
      "185/185 complete bins\n",
      "../../../../data/8*8U6/tp0beta2/n1/\n",
      "199/199 complete bins\n",
      "../../../../data/8*8U6/tp0beta2.5/n1/\n",
      "200/200 complete bins\n",
      "../../../../data/8*8U6/tp0beta3/n1/\n",
      "197/197 complete bins\n",
      "../../../../data/8*8U6/tp0beta3.5/n1/\n",
      "400/400 complete bins\n",
      "../../../../data/8*8U6/tp0beta4/n1/\n",
      "400/400 complete bins\n",
      "../../../../data/8*8U6/tp0beta4.5/n1/\n",
      "500/500 complete bins\n"
     ]
    }
   ],
   "source": [
    "U=6\n",
    "tp=0\n",
    "ns = np.array([1])\n",
    "betas = np.array([0.5,0.7,1,1.5,2,2.5,3,3.5,4,4.5])\n",
    "sitex = 8\n",
    "sitey = 8\n",
    "\n",
    "dt='05'\n",
    "\n",
    "\n",
    "\n",
    "dens = np.zeros((len(ns),len(betas),2))\n",
    "\n",
    "cks = np.zeros((len(ns),len(betas), 2))\n",
    "cps = np.zeros((len(ns),len(betas), 2))\n",
    "cs = np.zeros((len(ns),len(betas), 2))\n",
    "\n",
    "\n",
    "eks = np.zeros((len(ns),len(betas), 2))\n",
    "eps = np.zeros((len(ns),len(betas), 2))\n",
    "es = np.zeros((len(ns),len(betas), 2))\n",
    "\n",
    "spinsuscs = np.zeros((len(ns),len(betas), 2))\n",
    "compressibilities = np.zeros((len(ns),len(betas), 2))\n",
    "chargewilsonratios = np.zeros((len(ns),len(betas), 2))\n",
    "spinwilsonratios = np.zeros((len(ns),len(betas), 2))\n",
    "\n",
    "\n",
    "for i, n in enumerate(ns):\n",
    "    for j, b in enumerate(betas):\n",
    "        path = f\"../../../../data/{sitex:g}*{sitey:g}U{U:g}/tp{tp:g}beta{b:g}/n{n:g}/\"\n",
    "        print(path)\n",
    "        calcdt(dt)"
   ]
  },
  {
   "cell_type": "code",
   "execution_count": null,
   "metadata": {
    "collapsed": true
   },
   "outputs": [],
   "source": []
  },
  {
   "cell_type": "code",
   "execution_count": 6,
   "metadata": {
    "collapsed": true
   },
   "outputs": [
    {
     "name": "stdout",
     "output_type": "stream",
     "text": [
      "../../../../project_data/newtune/6*6U10/tp0beta2.5/n1/\n",
      "40/40 complete bins\n",
      "../../../../project_data/newtune/6*6U10/tp0beta3/n1/\n",
      "40/40 complete bins\n",
      "../../../../project_data/newtune/6*6U10/tp0beta3.5/n1/\n",
      "40/40 complete bins\n",
      "../../../../project_data/newtune/6*6U10/tp0beta4/n1/\n",
      "40/40 complete bins\n",
      "../../../../project_data/newtune/6*6U10/tp0beta4.5/n1/\n",
      "40/40 complete bins\n",
      "../../../../project_data/newtune/6*6U10/tp0beta5/n1/\n",
      "40/40 complete bins\n",
      "../../../../project_data/newtune/6*6U10/tp0beta6/n1/\n",
      "40/40 complete bins\n",
      "../../../../project_data/newtune/6*6U10/tp0beta7/n1/\n",
      "40/40 complete bins\n",
      "../../../../project_data/newtune/6*6U10/tp0beta8/n1/\n",
      "40/40 complete bins\n"
     ]
    }
   ],
   "source": [
    "U=10\n",
    "tp=0\n",
    "ns = np.array([1])\n",
    "betas = np.array([2.5,3,3.5,4,4.5,5,6,7,8])\n",
    "tps = np.array([0])\n",
    "tp=0\n",
    "sitex = 6\n",
    "sitey = 6\n",
    "\n",
    "dt='125'\n",
    "\n",
    "dens = np.zeros((len(ns),len(betas),2))\n",
    "\n",
    "cks = np.zeros((len(ns),len(betas), 2))\n",
    "cps = np.zeros((len(ns),len(betas), 2))\n",
    "cs = np.zeros((len(ns),len(betas), 2))\n",
    "\n",
    "\n",
    "eks = np.zeros((len(ns),len(betas), 2))\n",
    "eps = np.zeros((len(ns),len(betas), 2))\n",
    "es = np.zeros((len(ns),len(betas), 2))\n",
    "\n",
    "spinsuscs = np.zeros((len(ns),len(betas), 2))\n",
    "compressibilities = np.zeros((len(ns),len(betas), 2))\n",
    "chargewilsonratios = np.zeros((len(ns),len(betas), 2))\n",
    "spinwilsonratios = np.zeros((len(ns),len(betas), 2))\n",
    "\n",
    "for i, n in enumerate(ns):\n",
    "    for j, b in enumerate(betas):\n",
    "        path = f\"../../../../project_data/newtune/{sitex:g}*{sitey:g}U{U:g}/tp{tp:g}beta{b:g}/n{n:g}/\"\n",
    "        print(path)\n",
    "        calcdt(dt)"
   ]
  },
  {
   "cell_type": "code",
   "execution_count": null,
   "metadata": {
    "collapsed": true
   },
   "outputs": [],
   "source": []
  },
  {
   "cell_type": "code",
   "execution_count": null,
   "metadata": {
    "collapsed": true
   },
   "outputs": [],
   "source": []
  },
  {
   "cell_type": "code",
   "execution_count": 3,
   "metadata": {
    "collapsed": true
   },
   "outputs": [
    {
     "name": "stdout",
     "output_type": "stream",
     "text": [
      "../../../../project_data/newtune/6*6U10_dt05/tp0beta2/n1/\n",
      "800/800 complete bins\n",
      "../../../../project_data/newtune/6*6U10_dt05/tp0beta2.5/n1/\n",
      "800/800 complete bins\n",
      "../../../../project_data/newtune/6*6U10_dt05/tp0beta3/n1/\n",
      "800/800 complete bins\n",
      "../../../../project_data/newtune/6*6U10_dt05/tp0beta3.5/n1/\n",
      "800/800 complete bins\n",
      "../../../../project_data/newtune/6*6U10_dt05/tp0beta4/n1/\n",
      "800/800 complete bins\n",
      "../../../../project_data/newtune/6*6U10_dt05/tp0beta4.5/n1/\n",
      "800/800 complete bins\n",
      "../../../../project_data/newtune/6*6U10_dt05/tp0beta5/n1/\n",
      "800/800 complete bins\n",
      "../../../../project_data/newtune/6*6U10_dt05/tp0beta6/n1/\n",
      "800/800 complete bins\n",
      "../../../../project_data/newtune/6*6U10_dt05/tp0beta7/n1/\n",
      "800/800 complete bins\n",
      "../../../../project_data/newtune/6*6U10_dt05/tp0beta8/n1/\n",
      "800/800 complete bins\n"
     ]
    }
   ],
   "source": [
    "U=10\n",
    "tp=0\n",
    "ns = np.array([1])\n",
    "betas = np.array([2,2.5,3,3.5,4,4.5,5,6,7,8])\n",
    "tps = np.array([0])\n",
    "tp=0\n",
    "sitex = 6\n",
    "sitey = 6\n",
    "dt='05'\n",
    "dens = np.zeros((len(ns),len(betas),2))\n",
    "\n",
    "cks = np.zeros((len(ns),len(betas), 2))\n",
    "cps = np.zeros((len(ns),len(betas), 2))\n",
    "cs = np.zeros((len(ns),len(betas), 2))\n",
    "\n",
    "\n",
    "eks = np.zeros((len(ns),len(betas), 2))\n",
    "eps = np.zeros((len(ns),len(betas), 2))\n",
    "es = np.zeros((len(ns),len(betas), 2))\n",
    "\n",
    "spinsuscs = np.zeros((len(ns),len(betas), 2))\n",
    "compressibilities = np.zeros((len(ns),len(betas), 2))\n",
    "chargewilsonratios = np.zeros((len(ns),len(betas), 2))\n",
    "spinwilsonratios = np.zeros((len(ns),len(betas), 2))\n",
    "\n",
    "\n",
    "\n",
    "for i, n in enumerate(ns):\n",
    "    for j, b in enumerate(betas):\n",
    "        path = f\"../../../../project_data/newtune/{sitex:g}*{sitey:g}U{U:g}_dt05/tp{tp:g}beta{b:g}/n{n:g}/\"\n",
    "        print(path)\n",
    "        calcdt(dt)"
   ]
  },
  {
   "cell_type": "code",
   "execution_count": null,
   "metadata": {
    "collapsed": true
   },
   "outputs": [],
   "source": []
  },
  {
   "cell_type": "code",
   "execution_count": 13,
   "metadata": {
    "collapsed": true
   },
   "outputs": [
    {
     "name": "stdout",
     "output_type": "stream",
     "text": [
      "../../../../project_data/newtune/8*8U12_dt025/tp0beta2.5/n1/\n",
      "799/799 complete bins\n",
      "../../../../project_data/newtune/8*8U12_dt025/tp0beta3/n1/\n",
      "800/800 complete bins\n",
      "../../../../project_data/newtune/8*8U12_dt025/tp0beta3.5/n1/\n",
      "800/800 complete bins\n",
      "../../../../project_data/newtune/8*8U12_dt025/tp0beta4/n1/\n",
      "800/800 complete bins\n",
      "../../../../project_data/newtune/8*8U12_dt025/tp0beta4.5/n1/\n",
      "800/800 complete bins\n",
      "../../../../project_data/newtune/8*8U12_dt025/tp0beta5/n1/\n",
      "800/800 complete bins\n",
      "../../../../project_data/newtune/8*8U12_dt025/tp0beta6/n1/\n",
      "800/800 complete bins\n",
      "../../../../project_data/newtune/8*8U12_dt025/tp0beta7/n1/\n",
      "800/800 complete bins\n",
      "../../../../project_data/newtune/8*8U12_dt025/tp0beta8/n1/\n",
      "800/800 complete bins\n"
     ]
    }
   ],
   "source": [
    "U=12\n",
    "tp=0\n",
    "ns = np.array([1])\n",
    "betas = np.array([2.5,3,3.5,4,4.5,5,6,7,8])\n",
    "tps = np.array([0])\n",
    "tp=0\n",
    "sitex = 8\n",
    "sitey = 8\n",
    "\n",
    "dt='025'\n",
    "dens = np.zeros((len(ns),len(betas),2))\n",
    "\n",
    "cks = np.zeros((len(ns),len(betas), 2))\n",
    "cps = np.zeros((len(ns),len(betas), 2))\n",
    "cs = np.zeros((len(ns),len(betas), 2))\n",
    "\n",
    "\n",
    "eks = np.zeros((len(ns),len(betas), 2))\n",
    "eps = np.zeros((len(ns),len(betas), 2))\n",
    "es = np.zeros((len(ns),len(betas), 2))\n",
    "\n",
    "spinsuscs = np.zeros((len(ns),len(betas), 2))\n",
    "compressibilities = np.zeros((len(ns),len(betas), 2))\n",
    "chargewilsonratios = np.zeros((len(ns),len(betas), 2))\n",
    "spinwilsonratios = np.zeros((len(ns),len(betas), 2))\n",
    "\n",
    "\n",
    "\n",
    "for i, n in enumerate(ns):\n",
    "    for j, b in enumerate(betas):\n",
    "        path = f\"../../../../project_data/newtune/{sitex:g}*{sitey:g}U{U:g}_dt025/tp{tp:g}beta{b:g}/n{n:g}/\"\n",
    "        print(path)\n",
    "        calcdt(dt)\n"
   ]
  },
  {
   "cell_type": "code",
   "execution_count": null,
   "metadata": {
    "collapsed": true
   },
   "outputs": [],
   "source": []
  },
  {
   "cell_type": "code",
   "execution_count": 6,
   "metadata": {
    "collapsed": true
   },
   "outputs": [
    {
     "name": "stdout",
     "output_type": "stream",
     "text": [
      "../../../../project_data/newtune/6*6U12/tp0beta2/n1/\n",
      "400/400 complete bins\n",
      "../../../../project_data/newtune/6*6U12/tp0beta2.5/n1/\n",
      "400/400 complete bins\n",
      "../../../../project_data/newtune/6*6U12/tp0beta3/n1/\n",
      "800/800 complete bins\n",
      "../../../../project_data/newtune/6*6U12/tp0beta3.5/n1/\n",
      "800/800 complete bins\n",
      "../../../../project_data/newtune/6*6U12/tp0beta4/n1/\n",
      "800/800 complete bins\n",
      "../../../../project_data/newtune/6*6U12/tp0beta4.5/n1/\n",
      "800/800 complete bins\n",
      "../../../../project_data/newtune/6*6U12/tp0beta5/n1/\n",
      "800/800 complete bins\n",
      "../../../../project_data/newtune/6*6U12/tp0beta6/n1/\n",
      "800/800 complete bins\n",
      "../../../../project_data/newtune/6*6U12/tp0beta7/n1/\n",
      "800/800 complete bins\n",
      "../../../../project_data/newtune/6*6U12/tp0beta8/n1/\n",
      "800/800 complete bins\n"
     ]
    }
   ],
   "source": [
    "U=12\n",
    "tp=0\n",
    "ns = np.array([1])\n",
    "betas = np.array([2,2.5,3,3.5,4,4.5,5,6,7,8])\n",
    "tps = np.array([0])\n",
    "tp=0\n",
    "sitex = 6\n",
    "sitey = 6\n",
    "\n",
    "dt='05'\n",
    "dens = np.zeros((len(ns),len(betas),2))\n",
    "\n",
    "cks = np.zeros((len(ns),len(betas), 2))\n",
    "cps = np.zeros((len(ns),len(betas), 2))\n",
    "cs = np.zeros((len(ns),len(betas), 2))\n",
    "\n",
    "\n",
    "eks = np.zeros((len(ns),len(betas), 2))\n",
    "eps = np.zeros((len(ns),len(betas), 2))\n",
    "es = np.zeros((len(ns),len(betas), 2))\n",
    "\n",
    "spinsuscs = np.zeros((len(ns),len(betas), 2))\n",
    "compressibilities = np.zeros((len(ns),len(betas), 2))\n",
    "chargewilsonratios = np.zeros((len(ns),len(betas), 2))\n",
    "spinwilsonratios = np.zeros((len(ns),len(betas), 2))\n",
    "\n",
    "\n",
    "\n",
    "for i, n in enumerate(ns):\n",
    "    for j, b in enumerate(betas):\n",
    "        path = f\"../../../../project_data/newtune/{sitex:g}*{sitey:g}U{U:g}/tp{tp:g}beta{b:g}/n{n:g}/\"\n",
    "        print(path)\n",
    "        calcdt(dt)\n",
    "\n"
   ]
  },
  {
   "cell_type": "code",
   "execution_count": null,
   "metadata": {
    "collapsed": true
   },
   "outputs": [],
   "source": []
  },
  {
   "cell_type": "code",
   "execution_count": 6,
   "metadata": {
    "collapsed": true
   },
   "outputs": [
    {
     "name": "stdout",
     "output_type": "stream",
     "text": [
      "../../../../project_data/newtune/4*4U12/tp0beta2/n1/\n",
      "800/800 complete bins\n",
      "../../../../project_data/newtune/4*4U12/tp0beta2.5/n1/\n",
      "800/800 complete bins\n",
      "../../../../project_data/newtune/4*4U12/tp0beta3/n1/\n",
      "800/800 complete bins\n",
      "../../../../project_data/newtune/4*4U12/tp0beta3.5/n1/\n",
      "800/800 complete bins\n",
      "../../../../project_data/newtune/4*4U12/tp0beta4/n1/\n",
      "800/800 complete bins\n",
      "../../../../project_data/newtune/4*4U12/tp0beta4.5/n1/\n",
      "800/800 complete bins\n",
      "../../../../project_data/newtune/4*4U12/tp0beta5/n1/\n",
      "800/800 complete bins\n",
      "../../../../project_data/newtune/4*4U12/tp0beta6/n1/\n",
      "800/800 complete bins\n",
      "../../../../project_data/newtune/4*4U12/tp0beta7/n1/\n",
      "800/800 complete bins\n",
      "../../../../project_data/newtune/4*4U12/tp0beta8/n1/\n",
      "800/800 complete bins\n"
     ]
    }
   ],
   "source": [
    "U=12\n",
    "tp=0\n",
    "ns = np.array([1])\n",
    "betas = np.array([2,2.5,3,3.5,4,4.5,5,6,7,8])\n",
    "tps = np.array([0])\n",
    "tp=0\n",
    "sitex = 4\n",
    "sitey = 4\n",
    "\n",
    "dt='05'\n",
    "dens = np.zeros((len(ns),len(betas),2))\n",
    "\n",
    "cks = np.zeros((len(ns),len(betas), 2))\n",
    "cps = np.zeros((len(ns),len(betas), 2))\n",
    "cs = np.zeros((len(ns),len(betas), 2))\n",
    "\n",
    "\n",
    "eks = np.zeros((len(ns),len(betas), 2))\n",
    "eps = np.zeros((len(ns),len(betas), 2))\n",
    "es = np.zeros((len(ns),len(betas), 2))\n",
    "\n",
    "spinsuscs = np.zeros((len(ns),len(betas), 2))\n",
    "compressibilities = np.zeros((len(ns),len(betas), 2))\n",
    "chargewilsonratios = np.zeros((len(ns),len(betas), 2))\n",
    "spinwilsonratios = np.zeros((len(ns),len(betas), 2))\n",
    "\n",
    "\n",
    "\n",
    "for i, n in enumerate(ns):\n",
    "    for j, b in enumerate(betas):\n",
    "        path = f\"../../../../project_data/newtune/{sitex:g}*{sitey:g}U{U:g}/tp{tp:g}beta{b:g}/n{n:g}/\"\n",
    "        print(path)\n",
    "        calcdt(dt)"
   ]
  },
  {
   "cell_type": "code",
   "execution_count": null,
   "metadata": {
    "collapsed": true
   },
   "outputs": [],
   "source": []
  },
  {
   "cell_type": "code",
   "execution_count": null,
   "metadata": {
    "collapsed": true
   },
   "outputs": [],
   "source": []
  },
  {
   "cell_type": "code",
   "execution_count": 12,
   "metadata": {
    "collapsed": true
   },
   "outputs": [
    {
     "name": "stdout",
     "output_type": "stream",
     "text": [
      "../../../../project_data/newtune/10*10U8/tp0beta2/n1/\n",
      "3200/3200 complete bins\n",
      "../../../../project_data/newtune/10*10U8/tp0beta2.5/n1/\n",
      "3199/3199 complete bins\n",
      "../../../../project_data/newtune/10*10U8/tp0beta3/n1/\n",
      "3200/3200 complete bins\n",
      "../../../../project_data/newtune/10*10U8/tp0beta3.5/n1/\n",
      "3200/3200 complete bins\n",
      "../../../../project_data/newtune/10*10U8/tp0beta4/n1/\n",
      "3193/3193 complete bins\n",
      "../../../../project_data/newtune/10*10U8/tp0beta4.5/n1/\n",
      "3196/3196 complete bins\n",
      "../../../../project_data/newtune/10*10U8/tp0beta5/n1/\n",
      "3194/3194 complete bins\n",
      "../../../../project_data/newtune/10*10U8/tp0beta5.5/n1/\n",
      "3199/3199 complete bins\n",
      "../../../../project_data/newtune/10*10U8/tp0beta6/n1/\n",
      "6394/6394 complete bins\n",
      "../../../../project_data/newtune/10*10U8/tp0beta7/n1/\n",
      "3995/3995 complete bins\n",
      "../../../../project_data/newtune/10*10U8/tp0beta8/n1/\n",
      "3193/3193 complete bins\n",
      "../../../../project_data/newtune/10*10U8/tp0beta10/n1/\n",
      "3165/3166 complete bins\n"
     ]
    }
   ],
   "source": [
    "U=8\n",
    "tp=0\n",
    "ns = np.array([1])\n",
    "betas = np.array([2,2.5,3,3.5,4,4.5,5,5.5,6,7,8,10])\n",
    "tps = np.array([0])\n",
    "tp=0\n",
    "sitex = 10\n",
    "sitey = 10\n",
    "dt='05'\n",
    "\n",
    "dens = np.zeros((len(ns),len(betas),2))\n",
    "\n",
    "cks = np.zeros((len(ns),len(betas), 2))\n",
    "cps = np.zeros((len(ns),len(betas), 2))\n",
    "cs = np.zeros((len(ns),len(betas), 2))\n",
    "\n",
    "\n",
    "eks = np.zeros((len(ns),len(betas), 2))\n",
    "eps = np.zeros((len(ns),len(betas), 2))\n",
    "es = np.zeros((len(ns),len(betas), 2))\n",
    "\n",
    "spinsuscs = np.zeros((len(ns),len(betas), 2))\n",
    "compressibilities = np.zeros((len(ns),len(betas), 2))\n",
    "chargewilsonratios = np.zeros((len(ns),len(betas), 2))\n",
    "spinwilsonratios = np.zeros((len(ns),len(betas), 2))\n",
    "\n",
    "\n",
    "\n",
    "for i, n in enumerate(ns):\n",
    "    for j, b in enumerate(betas):\n",
    "        path = f\"../../../../project_data/newtune/{sitex:g}*{sitey:g}U{U:g}/tp{tp:g}beta{b:g}/n{n:g}/\"\n",
    "        print(path)\n",
    "        calcdt(dt)"
   ]
  },
  {
   "cell_type": "code",
   "execution_count": null,
   "metadata": {
    "collapsed": true
   },
   "outputs": [],
   "source": []
  },
  {
   "cell_type": "code",
   "execution_count": 3,
   "metadata": {
    "collapsed": true
   },
   "outputs": [
    {
     "name": "stdout",
     "output_type": "stream",
     "text": [
      "../../../../project_data/newtune/6*6U8/tp0beta2/n1/\n",
      "1600/1600 complete bins\n",
      "../../../../project_data/newtune/6*6U8/tp0beta2.5/n1/\n",
      "1598/1598 complete bins\n",
      "../../../../project_data/newtune/6*6U8/tp0beta3/n1/\n",
      "1600/1600 complete bins\n",
      "../../../../project_data/newtune/6*6U8/tp0beta3.5/n1/\n",
      "1600/1600 complete bins\n",
      "../../../../project_data/newtune/6*6U8/tp0beta4/n1/\n",
      "1600/1600 complete bins\n",
      "../../../../project_data/newtune/6*6U8/tp0beta4.5/n1/\n",
      "1600/1600 complete bins\n",
      "../../../../project_data/newtune/6*6U8/tp0beta5/n1/\n",
      "3199/3199 complete bins\n",
      "../../../../project_data/newtune/6*6U8/tp0beta5.5/n1/\n",
      "3200/3200 complete bins\n",
      "../../../../project_data/newtune/6*6U8/tp0beta6/n1/\n",
      "3196/3196 complete bins\n",
      "../../../../project_data/newtune/6*6U8/tp0beta7/n1/\n",
      "3198/3198 complete bins\n",
      "../../../../project_data/newtune/6*6U8/tp0beta8/n1/\n",
      "4799/4799 complete bins\n"
     ]
    }
   ],
   "source": [
    "U=8\n",
    "tp=0\n",
    "ns = np.array([1])\n",
    "betas = np.array([2,2.5,3,3.5,4,4.5,5,5.5,6,7,8])\n",
    "tps = np.array([0])\n",
    "tp=0\n",
    "sitex = 6\n",
    "sitey = 6\n",
    "dt='05'\n",
    "\n",
    "dens = np.zeros((len(ns),len(betas),2))\n",
    "\n",
    "cks = np.zeros((len(ns),len(betas), 2))\n",
    "cps = np.zeros((len(ns),len(betas), 2))\n",
    "cs = np.zeros((len(ns),len(betas), 2))\n",
    "\n",
    "\n",
    "eks = np.zeros((len(ns),len(betas), 2))\n",
    "eps = np.zeros((len(ns),len(betas), 2))\n",
    "es = np.zeros((len(ns),len(betas), 2))\n",
    "\n",
    "spinsuscs = np.zeros((len(ns),len(betas), 2))\n",
    "compressibilities = np.zeros((len(ns),len(betas), 2))\n",
    "chargewilsonratios = np.zeros((len(ns),len(betas), 2))\n",
    "spinwilsonratios = np.zeros((len(ns),len(betas), 2))\n",
    "\n",
    "\n",
    "\n",
    "for i, n in enumerate(ns):\n",
    "    for j, b in enumerate(betas):\n",
    "        path = f\"../../../../project_data/newtune/{sitex:g}*{sitey:g}U{U:g}/tp{tp:g}beta{b:g}/n{n:g}/\"\n",
    "        print(path)\n",
    "        calcdt(dt)"
   ]
  },
  {
   "cell_type": "code",
   "execution_count": null,
   "metadata": {
    "collapsed": true
   },
   "outputs": [],
   "source": []
  },
  {
   "cell_type": "code",
   "execution_count": null,
   "metadata": {
    "collapsed": true
   },
   "outputs": [],
   "source": []
  },
  {
   "cell_type": "code",
   "execution_count": null,
   "metadata": {
    "collapsed": true
   },
   "outputs": [],
   "source": []
  },
  {
   "cell_type": "code",
   "execution_count": 15,
   "metadata": {
    "collapsed": true
   },
   "outputs": [
    {
     "name": "stdout",
     "output_type": "stream",
     "text": [
      "../../../../project_data/newtune/4*4U8/tp0beta2/n1/\n",
      "800/800 complete bins\n",
      "../../../../project_data/newtune/4*4U8/tp0beta2.5/n1/\n",
      "800/800 complete bins\n",
      "../../../../project_data/newtune/4*4U8/tp0beta3/n1/\n",
      "800/800 complete bins\n",
      "../../../../project_data/newtune/4*4U8/tp0beta3.5/n1/\n",
      "800/800 complete bins\n",
      "../../../../project_data/newtune/4*4U8/tp0beta4/n1/\n",
      "800/800 complete bins\n",
      "../../../../project_data/newtune/4*4U8/tp0beta4.5/n1/\n",
      "800/800 complete bins\n",
      "../../../../project_data/newtune/4*4U8/tp0beta5/n1/\n",
      "800/800 complete bins\n",
      "../../../../project_data/newtune/4*4U8/tp0beta6/n1/\n",
      "800/800 complete bins\n",
      "../../../../project_data/newtune/4*4U8/tp0beta7/n1/\n",
      "1600/1600 complete bins\n",
      "../../../../project_data/newtune/4*4U8/tp0beta8/n1/\n",
      "3200/3200 complete bins\n",
      "../../../../project_data/newtune/4*4U8/tp0beta10/n1/\n",
      "1597/1597 complete bins\n"
     ]
    }
   ],
   "source": [
    "U=8\n",
    "tp=0\n",
    "ns = np.array([1])\n",
    "betas = np.array([2,2.5,3,3.5,4,4.5,5,6,7,8,10])\n",
    "tps = np.array([0])\n",
    "tp=0\n",
    "sitex = 4\n",
    "sitey = 4\n",
    "dt='05'\n",
    "\n",
    "dens = np.zeros((len(ns),len(betas),2))\n",
    "\n",
    "cks = np.zeros((len(ns),len(betas), 2))\n",
    "cps = np.zeros((len(ns),len(betas), 2))\n",
    "cs = np.zeros((len(ns),len(betas), 2))\n",
    "\n",
    "\n",
    "eks = np.zeros((len(ns),len(betas), 2))\n",
    "eps = np.zeros((len(ns),len(betas), 2))\n",
    "es = np.zeros((len(ns),len(betas), 2))\n",
    "\n",
    "spinsuscs = np.zeros((len(ns),len(betas), 2))\n",
    "compressibilities = np.zeros((len(ns),len(betas), 2))\n",
    "chargewilsonratios = np.zeros((len(ns),len(betas), 2))\n",
    "spinwilsonratios = np.zeros((len(ns),len(betas), 2))\n",
    "\n",
    "\n",
    "\n",
    "for i, n in enumerate(ns):\n",
    "    for j, b in enumerate(betas):\n",
    "        path = f\"../../../../project_data/newtune/{sitex:g}*{sitey:g}U{U:g}/tp{tp:g}beta{b:g}/n{n:g}/\"\n",
    "        print(path)\n",
    "        calcdt(dt)"
   ]
  },
  {
   "cell_type": "code",
   "execution_count": null,
   "metadata": {
    "collapsed": true
   },
   "outputs": [],
   "source": []
  },
  {
   "cell_type": "code",
   "execution_count": null,
   "metadata": {
    "collapsed": true
   },
   "outputs": [],
   "source": []
  },
  {
   "cell_type": "code",
   "execution_count": null,
   "metadata": {
    "collapsed": true
   },
   "outputs": [],
   "source": []
  },
  {
   "cell_type": "code",
   "execution_count": null,
   "metadata": {
    "collapsed": true
   },
   "outputs": [],
   "source": []
  }
 ],
 "metadata": {
  "kernelspec": {
   "display_name": "Python 3",
   "language": "python",
   "name": "python3"
  },
  "language_info": {
   "codemirror_mode": {
    "name": "ipython",
    "version": 3
   },
   "file_extension": ".py",
   "mimetype": "text/x-python",
   "name": "python",
   "nbconvert_exporter": "python",
   "pygments_lexer": "ipython3",
   "version": "3.6.1"
  }
 },
 "nbformat": 4,
 "nbformat_minor": 2
}
