{
 "cells": [
  {
   "cell_type": "code",
   "execution_count": 1,
   "metadata": {
    "collapsed": true
   },
   "outputs": [],
   "source": [
    "%reload_ext autoreload\n",
    "%autoreload 2\n",
    "\n",
    "from packages.correlations import *\n",
    "from packages.modelfunction import *\n",
    "from packages.correlation_length import *"
   ]
  },
  {
   "cell_type": "code",
   "execution_count": null,
   "metadata": {
    "collapsed": true
   },
   "outputs": [],
   "source": []
  },
  {
   "cell_type": "code",
   "execution_count": 2,
   "metadata": {},
   "outputs": [
    {
     "name": "stdout",
     "output_type": "stream",
     "text": [
      "../../../../project_data/newtune/10*10U8/tp0beta2/n1/\n",
      "3200/3200 complete bins\n",
      "../../../../project_data/newtune/10*10U8/tp0beta2.5/n1/\n",
      "3199/3199 complete bins\n",
      "../../../../project_data/newtune/10*10U8/tp0beta3/n1/\n",
      "3200/3200 complete bins\n",
      "../../../../project_data/newtune/10*10U8/tp0beta3.5/n1/\n",
      "3200/3200 complete bins\n",
      "../../../../project_data/newtune/10*10U8/tp0beta4/n1/\n",
      "3193/3193 complete bins\n",
      "../../../../project_data/newtune/10*10U8/tp0beta4.5/n1/\n",
      "3196/3196 complete bins\n",
      "../../../../project_data/newtune/10*10U8/tp0beta5/n1/\n",
      "3194/3194 complete bins\n",
      "../../../../project_data/newtune/10*10U8/tp0beta5.5/n1/\n",
      "3199/3199 complete bins\n",
      "../../../../project_data/newtune/10*10U8/tp0beta6/n1/\n",
      "6394/6394 complete bins\n",
      "../../../../project_data/newtune/10*10U8/tp0beta7/n1/\n",
      "3995/3995 complete bins\n",
      "../../../../project_data/newtune/10*10U8/tp0beta8/n1/\n",
      "3193/3193 complete bins\n",
      "../../../../project_data/newtune/10*10U8/tp0beta10/n1/\n",
      "3165/3166 complete bins\n"
     ]
    }
   ],
   "source": [
    "U=8\n",
    "sitex = 10\n",
    "sitey = 10\n",
    "tp=0\n",
    "\n",
    "betas = np.array([2,2.5,3,3.5,4,4.5,5,5.5,6,7,8,10])\n",
    "pathpre = f\"../../../../project_data/newtune/{sitex:g}*{sitey:g}U{U:g}/\"\n",
    "\n",
    "save_spincorrelation(U,sitex,sitey,tp,betas,pathpre)"
   ]
  },
  {
   "cell_type": "code",
   "execution_count": null,
   "metadata": {
    "collapsed": true
   },
   "outputs": [],
   "source": []
  }
 ],
 "metadata": {
  "kernelspec": {
   "display_name": "Python 3",
   "language": "python",
   "name": "python3"
  },
  "language_info": {
   "codemirror_mode": {
    "name": "ipython",
    "version": 3
   },
   "file_extension": ".py",
   "mimetype": "text/x-python",
   "name": "python",
   "nbconvert_exporter": "python",
   "pygments_lexer": "ipython3",
   "version": "3.6.1"
  }
 },
 "nbformat": 4,
 "nbformat_minor": 2
}
