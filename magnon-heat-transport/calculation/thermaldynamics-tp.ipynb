{
 "cells": [
  {
   "cell_type": "code",
   "execution_count": 1,
   "metadata": {
    "collapsed": true
   },
   "outputs": [],
   "source": [
    "%reload_ext autoreload\n",
    "%autoreload 2\n",
    "%config InlineBackend.figure_format = 'svg'\n",
    "from packages.thermaldynamics_tp import *"
   ]
  },
  {
   "cell_type": "code",
   "execution_count": 2,
   "metadata": {
    "collapsed": true
   },
   "outputs": [],
   "source": [
    "def calcdt_tp(dt):\n",
    "    den,ck,cp,c,ek,ep,e,spinsusc,compressibility,chargewilsonratio,spinwilsonratio= get_all_tp(path)\n",
    "    \n",
    "    dens[i,j,:]=den\n",
    "    cks[i, j, :] = ck\n",
    "    cps[i, j, :] = cp\n",
    "    cs[i, j, :] = c\n",
    "\n",
    "    eks[i, j, :] = ek\n",
    "    eps[i, j, :] = ep\n",
    "    es[i, j, :] = e\n",
    "\n",
    "    \n",
    "    spinsuscs[i, j, :] =spinsusc\n",
    "    compressibilities[i, j, :] =compressibility\n",
    "    chargewilsonratios[i, j, :]=chargewilsonratio\n",
    "    spinwilsonratios[i,j,:]=spinwilsonratio\n",
    "    \n",
    "    np.save(f\"tpdata/dens_{sitex:g}*{sitey:g}U{U:g}tp{tp:g}dt{dt}.npy\", dens)\n",
    "    \n",
    "    np.save(f\"tpdata/cks_{sitex:g}*{sitey:g}U{U:g}tp{tp:g}dt{dt}.npy\", cks)\n",
    "    np.save(f\"tpdata/cps_{sitex:g}*{sitey:g}U{U:g}tp{tp:g}dt{dt}.npy\", cps)\n",
    "    np.save(f\"tpdata/cs_{sitex:g}*{sitey:g}U{U:g}tp{tp:g}dt{dt}.npy\", cs)\n",
    "\n",
    "    np.save(f\"tpdata/eks_{sitex:g}*{sitey:g}U{U:g}tp{tp:g}dt{dt}.npy\", eks)\n",
    "    np.save(f\"tpdata/eps_{sitex:g}*{sitey:g}U{U:g}tp{tp:g}dt{dt}.npy\", eps)\n",
    "    np.save(f\"tpdata/es_{sitex:g}*{sitey:g}U{U:g}tp{tp:g}dt{dt}.npy\", es)\n",
    "\n",
    "    np.save(f\"tpdata/spinsuscs_{sitex:g}*{sitey:g}U{U:g}tp{tp:g}dt{dt}.npy\", spinsuscs)\n",
    "    np.save(f\"tpdata/compressibilities_{sitex:g}*{sitey:g}U{U:g}tp{tp:g}dt{dt}.npy\", compressibilities)\n",
    "    np.save(f\"tpdata/chargewilsonratios_{sitex:g}*{sitey:g}U{U:g}tp{tp:g}dt{dt}.npy\", chargewilsonratios)\n",
    "    np.save(f\"tpdata/spinwilsonratios_{sitex:g}*{sitey:g}U{U:g}tp{tp:g}dt{dt}.npy\", spinwilsonratios)"
   ]
  },
  {
   "cell_type": "code",
   "execution_count": 3,
   "metadata": {
    "collapsed": true
   },
   "outputs": [],
   "source": [
    "def loading_tp(sitex,sitey,U,tp,dt):\n",
    "    dens = np.load(f\"tpdata/dens_{sitex:g}*{sitey:g}U{U:g}tp{tp:g}dt{dt}.npy\")\n",
    "    \n",
    "    cks = np.load(f\"tpdata/cks_{sitex:g}*{sitey:g}U{U:g}tp{tp:g}dt{dt}.npy\")\n",
    "    cps = np.load(f\"tpdata/cps_{sitex:g}*{sitey:g}U{U:g}tp{tp:g}dt{dt}.npy\")\n",
    "    cs = np.load(f\"tpdata/cs_{sitex:g}*{sitey:g}U{U:g}tp{tp:g}dt{dt}.npy\")\n",
    "\n",
    "    eks = np.load(f\"tpdata/eks_{sitex:g}*{sitey:g}U{U:g}tp{tp:g}dt{dt}.npy\")\n",
    "    eps = np.load(f\"tpdata/eps_{sitex:g}*{sitey:g}U{U:g}tp{tp:g}dt{dt}.npy\")\n",
    "    es = np.load(f\"tpdata/es_{sitex:g}*{sitey:g}U{U:g}tp{tp:g}dt{dt}.npy\")\n",
    "\n",
    "    spinsuscs = np.load(f\"tpdata/spinsuscs_{sitex:g}*{sitey:g}U{U:g}tp{tp:g}dt{dt}.npy\")\n",
    "    compressibilities = np.load(f\"tpdata/compressibilities_{sitex:g}*{sitey:g}U{U:g}tp{tp:g}dt{dt}.npy\")\n",
    "    chargewilsonratios = np.load(f\"tpdata/chargewilsonratios_{sitex:g}*{sitey:g}U{U:g}tp{tp:g}dt{dt}.npy\")\n",
    "    spinwilsonratios = np.load(f\"tpdata/spinwilsonratios_{sitex:g}*{sitey:g}U{U:g}tp{tp:g}dt{dt}.npy\")\n",
    "    \n",
    "    return dens,cks,cps,cs,eks,eps,es,spinsuscs,compressibilities,chargewilsonratios,spinwilsonratios"
   ]
  },
  {
   "cell_type": "code",
   "execution_count": null,
   "metadata": {
    "collapsed": true
   },
   "outputs": [],
   "source": []
  },
  {
   "cell_type": "code",
   "execution_count": null,
   "metadata": {
    "collapsed": true
   },
   "outputs": [],
   "source": []
  },
  {
   "cell_type": "code",
   "execution_count": 4,
   "metadata": {},
   "outputs": [
    {
     "name": "stdout",
     "output_type": "stream",
     "text": [
      "../../../../data/8*8U8/tp-0.25beta0.5/n1/\n",
      "400/400 complete bins\n",
      "../../../../data/8*8U8/tp-0.25beta0.7/n1/\n",
      "400/400 complete bins\n",
      "../../../../data/8*8U8/tp-0.25beta1/n1/\n",
      "800/800 complete bins\n",
      "../../../../data/8*8U8/tp-0.25beta1.5/n1/\n",
      "2398/2398 complete bins\n",
      "../../../../data/8*8U8/tp-0.25beta2/n1/\n",
      "2399/2399 complete bins\n",
      "../../../../data/8*8U8/tp-0.25beta2.5/n1/\n",
      "2397/2397 complete bins\n",
      "../../../../data/8*8U8/tp-0.25beta3/n1/\n",
      "2398/2398 complete bins\n",
      "../../../../data/8*8U8/tp-0.25beta3.5/n1/\n",
      "2399/2399 complete bins\n"
     ]
    }
   ],
   "source": [
    "U=8\n",
    "ns = np.array([1])\n",
    "betas = np.array([0.5,0.7,1,1.5,2,2.5,3,3.5])\n",
    "tp=-0.25\n",
    "sitex = 8\n",
    "sitey = 8\n",
    "\n",
    "dt='05'\n",
    "\n",
    "dens = np.zeros((len(ns),len(betas),2))\n",
    "\n",
    "cks = np.zeros((len(ns),len(betas), 2))\n",
    "cps = np.zeros((len(ns),len(betas), 2))\n",
    "cs = np.zeros((len(ns),len(betas), 2))\n",
    "\n",
    "\n",
    "eks = np.zeros((len(ns),len(betas), 2))\n",
    "eps = np.zeros((len(ns),len(betas), 2))\n",
    "es = np.zeros((len(ns),len(betas), 2))\n",
    "\n",
    "spinsuscs = np.zeros((len(ns),len(betas), 2))\n",
    "compressibilities = np.zeros((len(ns),len(betas), 2))\n",
    "chargewilsonratios = np.zeros((len(ns),len(betas), 2))\n",
    "spinwilsonratios = np.zeros((len(ns),len(betas), 2))\n",
    "\n",
    "\n",
    "\n",
    "for i, n in enumerate(ns):\n",
    "    for j, b in enumerate(betas):\n",
    "        path = f\"../../../../data/{sitex:g}*{sitey:g}U{U:g}/tp{tp:g}beta{b:g}/n{n:g}/\"\n",
    "        print(path)\n",
    "        calcdt_tp(dt)"
   ]
  },
  {
   "cell_type": "code",
   "execution_count": null,
   "metadata": {
    "collapsed": true
   },
   "outputs": [],
   "source": []
  },
  {
   "cell_type": "code",
   "execution_count": null,
   "metadata": {
    "collapsed": true
   },
   "outputs": [],
   "source": []
  }
 ],
 "metadata": {
  "kernelspec": {
   "display_name": "Python 3",
   "language": "python",
   "name": "python3"
  },
  "language_info": {
   "codemirror_mode": {
    "name": "ipython",
    "version": 3
   },
   "file_extension": ".py",
   "mimetype": "text/x-python",
   "name": "python",
   "nbconvert_exporter": "python",
   "pygments_lexer": "ipython3",
   "version": "3.6.1"
  }
 },
 "nbformat": 4,
 "nbformat_minor": 2
}
