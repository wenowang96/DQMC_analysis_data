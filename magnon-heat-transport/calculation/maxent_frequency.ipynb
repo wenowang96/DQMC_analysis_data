{
 "cells": [
  {
   "cell_type": "code",
   "execution_count": 1,
   "metadata": {
    "collapsed": true
   },
   "outputs": [],
   "source": [
    "%reload_ext autoreload\n",
    "%autoreload 2\n",
    "\n",
    "from packages.correlations import *\n"
   ]
  },
  {
   "cell_type": "code",
   "execution_count": 2,
   "metadata": {},
   "outputs": [
    {
     "name": "stdout",
     "output_type": "stream",
     "text": [
      "w ranges from 0.002375013954695822 to 22.978266598550167\n",
      "dw ranges from 0.004750111638156925 at w = 0.002375013954695822 to 0.27290985965716885 at w =  22.978266598550167\n"
     ]
    }
   ],
   "source": [
    "w, dw = maxent.gen_grid(400, 0.0, 1.9, lambda x: 0.4*np.sinh(2.5*x))\n",
    "print(\"w ranges from\", w[0], \"to\", w[-1])\n",
    "print(\"dw ranges from\", dw.min(), \"at w =\", w[dw.argmin()], \"to\", dw.max(), \"at w = \", w[dw.argmax()])\n",
    "np.save(\"wU=6.npy\", w)\n",
    "np.save(\"dwU=6.npy\", dw)"
   ]
  },
  {
   "cell_type": "code",
   "execution_count": null,
   "metadata": {
    "collapsed": true
   },
   "outputs": [],
   "source": []
  },
  {
   "cell_type": "code",
   "execution_count": 3,
   "metadata": {},
   "outputs": [
    {
     "name": "stdout",
     "output_type": "stream",
     "text": [
      "w ranges from 0.0025000162760734565 to 29.496337866426696\n",
      "dw ranges from 0.00500013020935059 at w = 0.0025000162760734565 to 0.36874052492904497 at w =  29.496337866426696\n"
     ]
    }
   ],
   "source": [
    "w, dw = maxent.gen_grid(400, 0.0, 2.0, lambda x: 0.4*np.sinh(2.5*x))\n",
    "print(\"w ranges from\", w[0], \"to\", w[-1])\n",
    "print(\"dw ranges from\", dw.min(), \"at w =\", w[dw.argmin()], \"to\", dw.max(), \"at w = \", w[dw.argmax()])\n",
    "np.save(\"wU=8.npy\", w)\n",
    "np.save(\"dwU=8.npy\", dw)"
   ]
  },
  {
   "cell_type": "code",
   "execution_count": null,
   "metadata": {
    "collapsed": true
   },
   "outputs": [],
   "source": []
  },
  {
   "cell_type": "code",
   "execution_count": 4,
   "metadata": {},
   "outputs": [
    {
     "name": "stdout",
     "output_type": "stream",
     "text": [
      "w ranges from 0.002625018841593307 to 37.86289795877044\n",
      "dw ranges from 0.005250150733720181 at w = 0.002625018841593307 to 0.4969818337540133 at w =  37.86289795877044\n"
     ]
    }
   ],
   "source": [
    "w, dw = maxent.gen_grid(400, 0.0, 2.1, lambda x: 0.4*np.sinh(2.5*x))\n",
    "print(\"w ranges from\", w[0], \"to\", w[-1])\n",
    "print(\"dw ranges from\", dw.min(), \"at w =\", w[dw.argmin()], \"to\", dw.max(), \"at w = \", w[dw.argmax()])\n",
    "np.save(\"wU=10.npy\", w)\n",
    "np.save(\"dwU=10.npy\", dw)"
   ]
  },
  {
   "cell_type": "code",
   "execution_count": null,
   "metadata": {
    "collapsed": true
   },
   "outputs": [],
   "source": []
  },
  {
   "cell_type": "code",
   "execution_count": 6,
   "metadata": {},
   "outputs": [
    {
     "name": "stdout",
     "output_type": "stream",
     "text": [
      "w ranges from 0.002250011865253146 to 17.900206941789445\n",
      "dw ranges from 0.00450009492247568 at w = 0.002250011865253146 to 0.20142866278591143 at w =  17.900206941789445\n"
     ]
    }
   ],
   "source": [
    "w, dw = maxent.gen_grid(400, 0.0, 1.8, lambda x: 0.4*np.sinh(2.5*x))\n",
    "print(\"w ranges from\", w[0], \"to\", w[-1])\n",
    "print(\"dw ranges from\", dw.min(), \"at w =\", w[dw.argmin()], \"to\", dw.max(), \"at w = \", w[dw.argmax()])\n",
    "np.save(\"wU=4.npy\", w)\n",
    "np.save(\"dwU=4.npy\", dw)"
   ]
  },
  {
   "cell_type": "code",
   "execution_count": null,
   "metadata": {
    "collapsed": true
   },
   "outputs": [],
   "source": []
  },
  {
   "cell_type": "code",
   "execution_count": null,
   "metadata": {
    "collapsed": true
   },
   "outputs": [],
   "source": []
  },
  {
   "cell_type": "code",
   "execution_count": 7,
   "metadata": {},
   "outputs": [
    {
     "name": "stdout",
     "output_type": "stream",
     "text": [
      "w ranges from 0.002625018841593307 to 37.86289795877044\n",
      "dw ranges from 0.005250150733720181 at w = 0.002625018841593307 to 0.4969818337540133 at w =  37.86289795877044\n"
     ]
    }
   ],
   "source": [
    "w, dw = maxent.gen_grid(400, 0.0, 2.1, lambda x: 0.4*np.sinh(2.5*x))\n",
    "print(\"w ranges from\", w[0], \"to\", w[-1])\n",
    "print(\"dw ranges from\", dw.min(), \"at w =\", w[dw.argmin()], \"to\", dw.max(), \"at w = \", w[dw.argmax()])\n",
    "np.save(\"wU=12.npy\", w)\n",
    "np.save(\"dwU=12.npy\", dw)"
   ]
  },
  {
   "cell_type": "code",
   "execution_count": null,
   "metadata": {
    "collapsed": true
   },
   "outputs": [],
   "source": []
  },
  {
   "cell_type": "code",
   "execution_count": null,
   "metadata": {
    "collapsed": true
   },
   "outputs": [],
   "source": []
  }
 ],
 "metadata": {
  "kernelspec": {
   "display_name": "Python 3",
   "language": "python",
   "name": "python3"
  },
  "language_info": {
   "codemirror_mode": {
    "name": "ipython",
    "version": 3
   },
   "file_extension": ".py",
   "mimetype": "text/x-python",
   "name": "python",
   "nbconvert_exporter": "python",
   "pygments_lexer": "ipython3",
   "version": "3.6.1"
  }
 },
 "nbformat": 4,
 "nbformat_minor": 2
}
