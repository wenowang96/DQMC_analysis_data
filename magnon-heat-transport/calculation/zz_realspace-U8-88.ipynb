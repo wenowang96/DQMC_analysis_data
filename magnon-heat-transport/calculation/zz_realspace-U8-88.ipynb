{
 "cells": [
  {
   "cell_type": "code",
   "execution_count": 1,
   "metadata": {
    "collapsed": true
   },
   "outputs": [],
   "source": [
    "%reload_ext autoreload\n",
    "%autoreload 2\n",
    "\n",
    "from packages.correlations import *\n",
    "from packages.modelfunction import *\n",
    "from packages.correlation_length import *"
   ]
  },
  {
   "cell_type": "code",
   "execution_count": null,
   "metadata": {
    "collapsed": true
   },
   "outputs": [],
   "source": []
  },
  {
   "cell_type": "code",
   "execution_count": 2,
   "metadata": {},
   "outputs": [
    {
     "name": "stdout",
     "output_type": "stream",
     "text": [
      "../../../../data/8*8U8/tp0beta0.125/n1/\n",
      "200/200 complete bins\n",
      "../../../../data/8*8U8/tp0beta0.25/n1/\n",
      "200/200 complete bins\n",
      "../../../../data/8*8U8/tp0beta0.3/n1/\n",
      "200/200 complete bins\n",
      "../../../../data/8*8U8/tp0beta0.4/n1/\n",
      "200/200 complete bins\n",
      "../../../../data/8*8U8/tp0beta0.5/n1/\n",
      "200/200 complete bins\n",
      "../../../../data/8*8U8/tp0beta0.6/n1/\n",
      "200/200 complete bins\n",
      "../../../../data/8*8U8/tp0beta0.7/n1/\n",
      "200/200 complete bins\n",
      "../../../../data/8*8U8/tp0beta1/n1/\n",
      "200/200 complete bins\n",
      "../../../../data/8*8U8/tp0beta1.5/n1/\n",
      "500/500 complete bins\n",
      "../../../../data/8*8U8/tp0beta2/n1/\n",
      "1600/1600 complete bins\n",
      "../../../../data/8*8U8/tp0beta2.5/n1/\n",
      "1600/1600 complete bins\n",
      "../../../../data/8*8U8/tp0beta3/n1/\n",
      "1600/1600 complete bins\n",
      "../../../../data/8*8U8/tp0beta3.5/n1/\n",
      "2000/2000 complete bins\n",
      "../../../../data/8*8U8/tp0beta4/n1/\n",
      "1995/1995 complete bins\n",
      "../../../../data/8*8U8/tp0beta4.5/n1/\n",
      "1998/1998 complete bins\n",
      "../../../../data/8*8U8/tp0beta5/n1/\n",
      "4000/4000 complete bins\n",
      "../../../../data/8*8U8/tp0beta5.5/n1/\n",
      "3994/3994 complete bins\n",
      "../../../../data/8*8U8/tp0beta6/n1/\n",
      "3199/3199 complete bins\n",
      "../../../../data/8*8U8/tp0beta7/n1/\n",
      "2398/2398 complete bins\n",
      "../../../../data/8*8U8/tp0beta8/n1/\n",
      "3983/3983 complete bins\n",
      "../../../../data/8*8U8/tp0beta10/n1/\n",
      "1600/2400 complete bins\n",
      "../../../../data/8*8U8/tp0beta12/n1/\n",
      "1600/1600 complete bins\n",
      "../../../../data/8*8U8/tp0beta20/n1/\n",
      "1600/1600 complete bins\n"
     ]
    }
   ],
   "source": [
    "U=8\n",
    "sitex = 8\n",
    "sitey = 8\n",
    "tp=0\n",
    "\n",
    "betas = np.array([0.125,0.25,0.3,0.4,0.5,0.6,0.7,1,1.5,2,2.5,3,3.5,4,4.5,5,5.5,6,7,8,10,12,20])\n",
    "pathpre = f\"../../../../data/{sitex:g}*{sitey:g}U{U:g}/\"\n",
    "\n",
    "save_spincorrelation(U,sitex,sitey,tp,betas,pathpre)"
   ]
  },
  {
   "cell_type": "code",
   "execution_count": null,
   "metadata": {
    "collapsed": true
   },
   "outputs": [],
   "source": []
  }
 ],
 "metadata": {
  "kernelspec": {
   "display_name": "Python 3",
   "language": "python",
   "name": "python3"
  },
  "language_info": {
   "codemirror_mode": {
    "name": "ipython",
    "version": 3
   },
   "file_extension": ".py",
   "mimetype": "text/x-python",
   "name": "python",
   "nbconvert_exporter": "python",
   "pygments_lexer": "ipython3",
   "version": "3.6.1"
  }
 },
 "nbformat": 4,
 "nbformat_minor": 2
}
