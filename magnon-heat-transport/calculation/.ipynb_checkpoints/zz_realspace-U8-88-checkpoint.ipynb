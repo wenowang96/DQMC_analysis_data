{
 "cells": [
  {
   "cell_type": "code",
   "execution_count": null,
   "metadata": {
    "collapsed": true
   },
   "outputs": [],
   "source": [
    "%reload_ext autoreload\n",
    "%autoreload 2\n",
    "\n",
    "from packages.correlations import *\n",
    "from packages.modelfunction import *\n",
    "from packages.correlation_length import *"
   ]
  },
  {
   "cell_type": "code",
   "execution_count": null,
   "metadata": {
    "collapsed": true
   },
   "outputs": [],
   "source": []
  },
  {
   "cell_type": "code",
   "execution_count": null,
   "metadata": {},
   "outputs": [],
   "source": [
    "U=8\n",
    "sitex = 8\n",
    "sitey = 8\n",
    "tp=0\n",
    "\n",
    "betas = np.array([0.125,0.25,0.3,0.4,0.5,0.6,0.7,1,1.5,2,2.5,3,3.5,4,4.5,5,5.5,6,7,8,10,12,20])\n",
    "pathpre = f\"../../../../data/{sitex:g}*{sitey:g}U{U:g}/\"\n",
    "\n",
    "save_spincorrelation(U,sitex,sitey,tp,betas,pathpre)"
   ]
  },
  {
   "cell_type": "code",
   "execution_count": null,
   "metadata": {
    "collapsed": true
   },
   "outputs": [],
   "source": []
  }
 ],
 "metadata": {
  "kernelspec": {
   "display_name": "Python 3",
   "language": "python",
   "name": "python3"
  },
  "language_info": {
   "codemirror_mode": {
    "name": "ipython",
    "version": 3
   },
   "file_extension": ".py",
   "mimetype": "text/x-python",
   "name": "python",
   "nbconvert_exporter": "python",
   "pygments_lexer": "ipython3",
   "version": "3.6.1"
  }
 },
 "nbformat": 4,
 "nbformat_minor": 2
}
