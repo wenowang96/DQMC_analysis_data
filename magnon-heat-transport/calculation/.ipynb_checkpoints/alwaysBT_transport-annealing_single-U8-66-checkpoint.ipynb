{
 "cells": [
  {
   "cell_type": "code",
   "execution_count": 3,
   "metadata": {
    "collapsed": true
   },
   "outputs": [],
   "source": [
    "%reload_ext autoreload\n",
    "%autoreload 2\n",
    "\n",
    "from packages.correlations import *\n",
    "from packages.modelfunction import *"
   ]
  },
  {
   "cell_type": "code",
   "execution_count": null,
   "metadata": {
    "collapsed": true
   },
   "outputs": [],
   "source": []
  },
  {
   "cell_type": "code",
   "execution_count": null,
   "metadata": {},
   "outputs": [
    {
     "name": "stdout",
     "output_type": "stream",
     "text": [
      "../../../../project_data/newtune/6*6U8/tp0beta2/n1/\n"
     ]
    }
   ],
   "source": [
    "U=8\n",
    "sitex = 8\n",
    "sitey = 8\n",
    "bs=200\n",
    "tp=0\n",
    "\n",
    "\n",
    "w = np.load(f\"wU={U:g}.npy\")\n",
    "dw = np.load(f\"dwU={U:g}.npy\")\n",
    "\n",
    "prefix = \"n1_annealing_single_alwaysBT\"\n",
    "\n",
    "jeje = np.load(prefix+f\"jejeU{U:g}tp{tp:g}_{sitex:g}*{sitey:g}.npy\")\n",
    "jkjk = np.load(prefix+f\"jkjkU{U:g}tp{tp:g}_{sitex:g}*{sitey:g}.npy\")\n",
    "jpjp = np.load(prefix+f\"jpjpU{U:g}tp{tp:g}_{sitex:g}*{sitey:g}.npy\")\n",
    "j0j0 = np.load(prefix+f\"j0j0U{U:g}tp{tp:g}_{sitex:g}*{sitey:g}.npy\")\n",
    "\n",
    "i=0\n",
    "mdljeje,mdljkjk,mdljpjp,mdlj0j0,= \\\n",
    "jeje[i, 8]*dw/(jeje[i, 8]*dw).sum()+ np.nextafter(0, 1), \\\n",
    "jkjk[i, 8]*dw/(jkjk[i, 8]*dw).sum()+ np.nextafter(0, 1), \\\n",
    "jpjp[i, 8]*dw/(jpjp[i, 8]*dw).sum()+ np.nextafter(0, 1), \\\n",
    "j0j0[i, 8]*dw/(j0j0[i, 8]*dw).sum()+ np.nextafter(0, 1), \n",
    "\n",
    "mdls = (mdljeje,mdljkjk,mdljpjp,mdlj0j0)\n",
    "\n",
    "\n",
    "sitex = 6\n",
    "sitey = 6\n",
    "\n",
    "\n",
    "ns = np.array([1])\n",
    "betas = np.array([2,2.5,3,3.5,4,4.5,5,5.5,6,7,8])\n",
    "\n",
    "\n",
    "jeje =np.zeros((len(ns), len(betas), len(w)))\n",
    "jkjk =np.zeros((len(ns), len(betas), len(w)))\n",
    "jpjp =np.zeros(( len(ns), len(betas), len(w)))\n",
    "j0j0 =np.zeros(( len(ns), len(betas), len(w)))\n",
    "C =np.zeros(( len(ns), len(betas)))\n",
    "chi =np.zeros(( len(ns), len(betas)))\n",
    "\n",
    "jejes = np.zeros(( len(ns), len(betas), bs,len(w)))\n",
    "jkjks =np.zeros(( len(ns), len(betas), bs,len(w)))\n",
    "jpjps = np.zeros(( len(ns), len(betas), bs,len(w)))\n",
    "j0j0s = np.zeros(( len(ns), len(betas), bs,len(w)))\n",
    "Cs = np.zeros(( len(ns), len(betas), bs))\n",
    "chis = np.zeros(( len(ns), len(betas), bs))\n",
    "\n",
    "for i, n in enumerate(ns):\n",
    "    for j, b in enumerate(betas):\n",
    "        path =  f\"../../../../project_data/newtune/{sitex:g}*{sitey:g}U{U:g}/tp{tp:g}beta{b:g}/n{n:g}/\"\n",
    "        saving(U,tp,b,n,i,j,sitex,sitey,bs,w,dw,jeje,jkjk,jpjp,\n",
    "               j0j0,C,chi,jejes,jkjks,jpjps,j0j0s,Cs,chis,prefix,mdls=mdls,path=path,modelstyle='annealing_single',alwaysBT=True)"
   ]
  },
  {
   "cell_type": "code",
   "execution_count": null,
   "metadata": {
    "scrolled": true
   },
   "outputs": [],
   "source": [
    "# U=8\n",
    "# bs=200\n",
    "# tp=0\n",
    "\n",
    "\n",
    "# w = np.load(f\"wU={U:g}.npy\")\n",
    "# dw = np.load(f\"dwU={U:g}.npy\")\n",
    "# prefix = \"n1_annealing_single_alwaysBT\"\n",
    "# sitex = 6\n",
    "# sitey = 6\n",
    "\n",
    "# ns = np.array([1])\n",
    "# betas = np.array([2,2.5,3,3.5,4,4.5,5,5.5,6,7,8])\n",
    "\n",
    "\n",
    "\n",
    "# jeje,jkjk,jpjp,j0j0,C,chi,jejes,jkjks,jpjps,j0j0s,Cs,chis = loading(U,tp,sitex,sitey,prefix)\n",
    "# mdls=None\n",
    "# for i, n in enumerate(ns):\n",
    "#     for j, b in enumerate(betas):\n",
    "#         if b<5.5:\n",
    "#             continue\n",
    "#         path =  f\"../../../../project_data/newtune/{sitex:g}*{sitey:g}U{U:g}/tp{tp:g}beta{b:g}/n{n:g}/\"\n",
    "#         saving(U,tp,b,n,i,j,sitex,sitey,bs,w,dw,jeje,jkjk,jpjp,\n",
    "#                j0j0,C,chi,jejes,jkjks,jpjps,j0j0s,Cs,chis,prefix,mdls=mdls,path=path,modelstyle='annealing_single',alwaysBT=True)"
   ]
  },
  {
   "cell_type": "code",
   "execution_count": null,
   "metadata": {
    "collapsed": true
   },
   "outputs": [],
   "source": []
  }
 ],
 "metadata": {
  "kernelspec": {
   "display_name": "Python 3",
   "language": "python",
   "name": "python3"
  },
  "language_info": {
   "codemirror_mode": {
    "name": "ipython",
    "version": 3
   },
   "file_extension": ".py",
   "mimetype": "text/x-python",
   "name": "python",
   "nbconvert_exporter": "python",
   "pygments_lexer": "ipython3",
   "version": "3.6.1"
  }
 },
 "nbformat": 4,
 "nbformat_minor": 2
}
