{
 "cells": [
  {
   "cell_type": "code",
   "execution_count": 1,
   "metadata": {
    "scrolled": true
   },
   "outputs": [
    {
     "data": {
      "text/html": [
       "<button onclick=\"$('.input, .output_stderr, .output_error').toggle();\">Toggle Code</button>"
      ]
     },
     "metadata": {},
     "output_type": "display_data"
    }
   ],
   "source": [
    "%reload_ext autoreload\n",
    "%autoreload 2\n",
    "\n",
    "from glob import glob\n",
    "import numpy as np\n",
    "\n",
    "import scipy\n",
    "from scipy.interpolate import CubicSpline\n",
    "#from scipy import integrate\n",
    "import matplotlib.pyplot as plt\n",
    "import sys\n",
    "sys.path.append(\"../../../../dqmc_edit/thermaltest/Determinant-QMC/util/\")\n",
    "import util\n",
    "import maxent\n",
    "import matplotlib.ticker as ticker\n",
    "plt.rcParams[\"figure.facecolor\"] = 'w'\n",
    "plt.rcParams.update({'font.size': 14, 'font.sans-serif':'Liberation Sans'})\n",
    "\n",
    "from IPython.display import display_html\n",
    "display_html(\"\"\"<button onclick=\"$('.input, .output_stderr, .output_error').toggle();\">Toggle Code</button>\"\"\", raw=True)"
   ]
  },
  {
   "cell_type": "code",
   "execution_count": null,
   "metadata": {
    "collapsed": true
   },
   "outputs": [],
   "source": []
  },
  {
   "cell_type": "code",
   "execution_count": null,
   "metadata": {
    "collapsed": true
   },
   "outputs": [],
   "source": []
  },
  {
   "cell_type": "code",
   "execution_count": 2,
   "metadata": {},
   "outputs": [
    {
     "name": "stderr",
     "output_type": "stream",
     "text": [
      "findfont: Font family ['sans-serif'] not found. Falling back to DejaVu Sans.\n",
      "findfont: Font family ['sans-serif'] not found. Falling back to DejaVu Sans.\n",
      "findfont: Font family ['sans-serif'] not found. Falling back to DejaVu Sans.\n",
      "findfont: Font family ['sans-serif'] not found. Falling back to DejaVu Sans.\n"
     ]
    },
    {
     "data": {
      "image/png": "[encoded data removed]",
      "text/plain": [
       "<Figure size 878.4x273.6 with 3 Axes>"
      ]
     },
     "metadata": {},
     "output_type": "display_data"
    }
   ],
   "source": [
    "cmap = plt.cm.coolwarm\n",
    "colorlist=['olive','r','k']\n",
    "symbols = ['D','s','o']\n",
    "f, axs = plt.subplots(1,3, sharex=True, sharey=True, figsize=(12.2,3.8))\n",
    "plt.subplots_adjust(wspace=0.09, hspace=0.03)\n",
    "axs[0].tick_params(direction='in',bottom=True, top=True, left=True, right=True)\n",
    "axs[1].tick_params(direction='in',bottom=True, top=True, left=True, right=True)\n",
    "axs[2].tick_params(direction='in',bottom=True, top=True, left=True, right=True)\n",
    "\n",
    "z0U8=None\n",
    "zU8=None\n",
    "axs[0].set_xlabel(r\"$T/t$\")\n",
    "axs[1].set_xlabel(r\"$T/t$\")\n",
    "axs[2].set_xlabel(r\"$T/t$\")\n",
    "\n",
    "U=8\n",
    "sitex = 6\n",
    "sitey = 6\n",
    "tp = 0\n",
    "zU8=None\n",
    "\n",
    "\n",
    "xi = np.load(f'../calculation/correlationlength_{sitex:g}*{sitey:g}U{U:g}_tp{tp:g}.npy')\n",
    "betasU8_66 = np.array([2,2.5,3,3.5,4,4.5,5,5.5,6,7,8])\n",
    "axs[0].plot(1/betasU8_66,xi,lw=2, ms=4,color=colorlist[0],marker=symbols[0], linestyle='solid', label=rf'$6 \\times 6$'\n",
    "           )\n",
    "\n",
    "U=8\n",
    "sitex = 8\n",
    "sitey = 8\n",
    "tp = 0\n",
    "zU8=None\n",
    "\n",
    "\n",
    "xi = np.load(f'../calculation/correlationlength_{sitex:g}*{sitey:g}U{U:g}_tp{tp:g}.npy')\n",
    "betasU8_88 = np.array([0.125,0.25,0.3,0.4,0.5,0.6,0.7,1,1.5,2,2.5,3,3.5,4,4.5,5,5.5,6,7,8,10,12,20])\n",
    "axs[0].plot(1/betasU8_88,xi,lw=1, ms=4,color=colorlist[1],marker=symbols[1], linestyle='solid', label=rf'$8 \\times 8$'\n",
    "           )\n",
    "\n",
    "\n",
    "U=8\n",
    "sitex = 10\n",
    "sitey = 10\n",
    "tp = 0\n",
    "zU8=None\n",
    "\n",
    "\n",
    "xi = np.load(f'../calculation/correlationlength_{sitex:g}*{sitey:g}U{U:g}_tp{tp:g}.npy')\n",
    "betasU8_1010 = np.array([2,2.5,3,3.5,4,4.5,5,5.5,6,7,8,10])\n",
    "axs[0].plot(1/betasU8_1010,xi,lw=0.5, ms=4,color=colorlist[2],marker=symbols[2], linestyle='solid', label=rf'$10 \\times 10$'\n",
    "           )\n",
    "\n",
    "\n",
    "\n",
    "U=10\n",
    "sitex = 6\n",
    "sitey = 6\n",
    "tp = 0\n",
    "zU8=None\n",
    "\n",
    "\n",
    "xi = np.load(f'../calculation/correlationlength_{sitex:g}*{sitey:g}U{U:g}_tp{tp:g}.npy')\n",
    "betasU10_66 = np.array([2,2.5,3,3.5,4,4.5,5,6,7,8])\n",
    "axs[1].plot(1/betasU10_66,xi,lw=2, ms=4,color=colorlist[0],marker=symbols[0], linestyle='solid', label=rf'$6 \\times 6$'\n",
    "           )\n",
    "\n",
    "U=10\n",
    "sitex = 8\n",
    "sitey = 8\n",
    "tp = 0\n",
    "zU8=None\n",
    "\n",
    "\n",
    "xi = np.load(f'../calculation/correlationlength_{sitex:g}*{sitey:g}U{U:g}_tp{tp:g}.npy')\n",
    "betasU10_88 = np.array([0.125,0.25,0.3,0.4,0.5,0.6,0.7,1,1.5,2,2.5,3,3.5,4,4.5,5,6,7,8,10,12,20])\n",
    "axs[1].plot(1/betasU10_88,xi,lw=1, ms=4,color=colorlist[1],marker=symbols[1], linestyle='solid', label=rf'$8 \\times 8$'\n",
    "           )\n",
    "\n",
    "\n",
    "\n",
    "U=12\n",
    "sitex = 6\n",
    "sitey = 6\n",
    "tp = 0\n",
    "zU8=None\n",
    "\n",
    "\n",
    "xi = np.load(f'../calculation/correlationlength_{sitex:g}*{sitey:g}U{U:g}_tp{tp:g}.npy')\n",
    "betasU12_66 = np.array([2,2.5,3,3.5,4,4.5,5,6,7,8])\n",
    "axs[2].plot(1/betasU12_66,xi,lw=2, ms=4,color=colorlist[0],marker=symbols[0], linestyle='solid', label=rf'$6 \\times 6$'\n",
    "           )\n",
    "\n",
    "U=12\n",
    "sitex = 8\n",
    "sitey = 8\n",
    "tp = 0\n",
    "zU8=None\n",
    "\n",
    "\n",
    "xi = np.load(f'../calculation/correlationlength_{sitex:g}*{sitey:g}U{U:g}_tp{tp:g}.npy')\n",
    "betasU12_88 = np.array([0.125,0.25,0.3,0.4,0.5,0.6,0.7,1,1.5,2,2.5,3,3.5,4,4.5,5,6,7,8,10,12])\n",
    "axs[2].plot(1/betasU12_88,xi,lw=1, ms=4,color=colorlist[1],marker=symbols[1], linestyle='solid', label=rf'$8 \\times 8$'\n",
    "           )\n",
    "\n",
    "handles, labels = axs[0].get_legend_handles_labels()\n",
    "axs[0].legend(handles[::-1], labels[::-1], frameon=False,labelspacing=0.1,fontsize=14.8)\n",
    "\n",
    "handles, labels = axs[1].get_legend_handles_labels()\n",
    "axs[1].legend(handles[::-1], labels[::-1],frameon=False,labelspacing=0.1,fontsize=14.8)\n",
    "\n",
    "handles, labels = axs[2].get_legend_handles_labels()\n",
    "axs[2].legend(handles[::-1], labels[::-1],frameon=False,labelspacing=0.1,fontsize=14.8)\n",
    "\n",
    "axs[0].set_xlim(0,0.5)\n",
    "axs[0].set_ylim(0,4.5)\n",
    "axs[0].set_ylabel(r'$\\xi$')\n",
    "\n",
    "axs[0].text(0.3,0.08,r\"$U/t=8$\", size=16, horizontalalignment='center',transform=axs[0].transAxes)\n",
    "axs[1].text(0.3,0.08,r\"$U/t=10$\", size=16, horizontalalignment='center',transform=axs[1].transAxes)\n",
    "axs[2].text(0.3,0.08,r\"$U/t=12$\", size=16, horizontalalignment='center',transform=axs[2].transAxes)\n",
    "\n",
    "axs[0].text(0.07,0.9,\"a\", size=16, weight='bold',horizontalalignment='center',transform=axs[0].transAxes)\n",
    "axs[1].text(0.07,0.9,\"b\", size=16, weight='bold',horizontalalignment='center',transform=axs[1].transAxes)\n",
    "axs[2].text(0.07,0.9,\"c\", size=16, weight='bold',horizontalalignment='center',transform=axs[2].transAxes)\n",
    "plt.savefig(\"plots/fig_correlation_length.pdf\",bbox_inches = 'tight',pad_inches=0.02,dpi=1000)\n",
    "plt.show()"
   ]
  },
  {
   "cell_type": "code",
   "execution_count": null,
   "metadata": {
    "collapsed": true
   },
   "outputs": [],
   "source": []
  },
  {
   "cell_type": "code",
   "execution_count": null,
   "metadata": {
    "collapsed": true
   },
   "outputs": [],
   "source": []
  },
  {
   "cell_type": "code",
   "execution_count": null,
   "metadata": {
    "collapsed": true
   },
   "outputs": [],
   "source": []
  }
 ],
 "metadata": {
  "kernelspec": {
   "display_name": "Python 3",
   "language": "python",
   "name": "python3"
  },
  "language_info": {
   "codemirror_mode": {
    "name": "ipython",
    "version": 3
   },
   "file_extension": ".py",
   "mimetype": "text/x-python",
   "name": "python",
   "nbconvert_exporter": "python",
   "pygments_lexer": "ipython3",
   "version": "3.6.1"
  }
 },
 "nbformat": 4,
 "nbformat_minor": 2
}
